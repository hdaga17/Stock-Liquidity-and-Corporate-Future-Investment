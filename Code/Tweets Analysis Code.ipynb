{
 "cells": [
  {
   "cell_type": "code",
   "execution_count": null,
   "metadata": {
    "colab": {
     "base_uri": "https://localhost:8080/",
     "height": 1000
    },
    "id": "Mnymp2PSDPdo",
    "outputId": "1f4b97aa-c23e-43eb-9012-14ecabb2db07"
   },
   "outputs": [],
   "source": [
    "!pip install datetime\n",
    "!pip install pandas\n",
    "!pip install numpy\n",
    "!pip install scipy\n",
    "!pip install vaderSentiment\n",
    "!pip install statsmodels"
   ]
  },
  {
   "cell_type": "code",
   "execution_count": null,
   "metadata": {
    "id": "Gj2Y9Nb9DPdq"
   },
   "outputs": [],
   "source": [
    "import pandas as pd\n",
    "import numpy as np\n",
    "import datetime\n",
    "import requests\n",
    "from vaderSentiment.vaderSentiment import SentimentIntensityAnalyzer"
   ]
  },
  {
   "cell_type": "code",
   "execution_count": null,
   "metadata": {},
   "outputs": [],
   "source": [
    "twt_df = pd.read_csv('indextweetsdata.csv')\n",
    "twt_df['date'] = pd.to_datetime(twt_df['Datetime']).dt.date\n",
    "twt_df = twt_df.drop(columns = ['Unnamed: 0','Tweet Id','Username','Datetime'])\n",
    "twt_df"
   ]
  },
  {
   "cell_type": "code",
   "execution_count": null,
   "metadata": {},
   "outputs": [],
   "source": [
    "twt_df['Index_Score'] = ''\n",
    "twt_df['Index_Neg'] = ''\n",
    "twt_df['Index_Pos'] = ''\n",
    "twt_df['Index_Score'] = pd.to_numeric(twt_df['Index_Score'])\n",
    "twt_df['Index_Neg'] = pd.to_numeric(twt_df['Index_Neg'])\n",
    "twt_df['Index_Pos'] = pd.to_numeric(twt_df['Index_Pos'])\n",
    "twt_df "
   ]
  },
  {
   "cell_type": "code",
   "execution_count": null,
   "metadata": {
    "scrolled": false
   },
   "outputs": [],
   "source": [
    "analyzer = SentimentIntensityAnalyzer()\n",
    "for i in range(twt_df.shape[0]):\n",
    "    text_analyzed = analyzer.polarity_scores(twt_df['Text'][i])\n",
    "    twt_df['Index_Score'][i] = text_analyzed['compound']\n",
    "    twt_df['Index_Pos'][i] = text_analyzed['pos']\n",
    "    twt_df['Index_Neg'][i] = text_analyzed['neg']\n",
    "    "
   ]
  },
  {
   "cell_type": "code",
   "execution_count": null,
   "metadata": {},
   "outputs": [],
   "source": [
    "twt_df"
   ]
  },
  {
   "cell_type": "code",
   "execution_count": null,
   "metadata": {},
   "outputs": [],
   "source": [
    "twt_df = (twt_df.groupby(['date'])['Index_Score', 'Index_Pos', 'Index_Neg'].mean()).reset_index()\n",
    "twt_df "
   ]
  },
  {
   "cell_type": "code",
   "execution_count": null,
   "metadata": {},
   "outputs": [],
   "source": [
    "stock_df = pd.read_csv('index1data.csv')\n",
    "stock_df['date'] = pd.to_datetime(stock_df['Date']).dt.date\n",
    "stock_df = stock_df.drop(['Date'], axis=1)\n",
    "stock_df['DR'] = np.log((stock_df['Close']/ stock_df['Close'].shift(1)))\n",
    "stock_df['DV7'] = ''\n",
    "stock_df['DV3'] = ''\n",
    "\n",
    "for i in range(7):\n",
    "    col_name = 'shift'+str(i)\n",
    "    stock_df[col_name] = stock_df['Close'].shift(i)\n",
    "    \n",
    "for i in range(stock_df.shape[0]):\n",
    "    stock_df['DV7'][i] = np.sqrt(np.var([stock_df[('shift'+str(j))][i] for j in range(7)]))\n",
    "    stock_df['DV3'][i] = np.sqrt(np.var([stock_df[('shift'+str(j))][i] for j in range(3)]))\n",
    "    \n",
    "stock_df['DV7-1'] = stock_df['DV7'].shift(-1)\n",
    "stock_df['DV3-1'] = stock_df['DV3'].shift(-1)\n",
    "    \n",
    "stock_df"
   ]
  },
  {
   "cell_type": "code",
   "execution_count": null,
   "metadata": {
    "id": "DiXPwFHADPdz"
   },
   "outputs": [],
   "source": [
    "main_df = twt_df[['date','Index_Score']]\n",
    "main_df2 = twt_df[['date','Index_Pos']]\n",
    "main_df3 = twt_df [['date','Index_Neg']]"
   ]
  },
  {
   "cell_type": "code",
   "execution_count": null,
   "metadata": {
    "id": "5MSlVbKbDPd1"
   },
   "outputs": [],
   "source": [
    "main_merged_df = pd.merge(stock_df, main_df, on='date',how='inner')\n",
    "main_merged_df = main_merged_df[['Close','DR','DV3','DV7','DV3-1','DV7-1','Index_Score']]\n",
    "main_merged_df['DV7'] = pd.to_numeric(main_merged_df['DV7'])\n",
    "main_merged_df['DV7-1'] = pd.to_numeric(main_merged_df['DV7-1'])\n",
    "main_merged_df['DV3'] = pd.to_numeric(main_merged_df['DV3'])\n",
    "main_merged_df['DV3-1'] = pd.to_numeric(main_merged_df['DV3-1'])\n",
    "\n",
    "main_merged_df2 = pd.merge(stock_df, main_df2, on='date',how='inner')\n",
    "main_merged_df2 = main_merged_df2[['Close','DR','DV3','DV7','DV3-1','DV7-1','Index_Pos']]\n",
    "main_merged_df2['DV7'] = pd.to_numeric(main_merged_df2['DV7'])\n",
    "main_merged_df2['DV7-1'] = pd.to_numeric(main_merged_df2['DV7-1'])\n",
    "main_merged_df2['DV3'] = pd.to_numeric(main_merged_df2['DV3'])\n",
    "main_merged_df2['DV3-1'] = pd.to_numeric(main_merged_df2['DV3-1'])\n",
    "\n",
    "main_merged_df3 = pd.merge(stock_df, main_df3, on='date',how='inner')\n",
    "main_merged_df3 = main_merged_df3[['Close','DR','DV3','DV7','DV3-1','DV7-1','Index_Neg']]\n",
    "main_merged_df3['DV7'] = pd.to_numeric(main_merged_df3['DV7'])\n",
    "main_merged_df3['DV7-1'] = pd.to_numeric(main_merged_df3['DV7-1'])\n",
    "main_merged_df3['DV3'] = pd.to_numeric(main_merged_df3['DV3'])\n",
    "main_merged_df3['DV3-1'] = pd.to_numeric(main_merged_df3['DV3-1'])"
   ]
  },
  {
   "cell_type": "code",
   "execution_count": null,
   "metadata": {
    "id": "5dltr7P6DPd2"
   },
   "outputs": [],
   "source": [
    "import numpy as np\n",
    "from scipy.stats import pearsonr\n",
    "\n",
    "print(\"Index_Score, Price:\", pearsonr(main_merged_df['Index_Score'],main_merged_df['Close']))\n",
    "print(\"Index_Score, DR:\", pearsonr(main_merged_df['Index_Score'],main_merged_df['DR']))\n",
    "print(\"Index_Score, DV7:\", pearsonr(main_merged_df['Index_Score'],main_merged_df['DV7']))\n",
    "print(\"Index_Score, DV7-1:\", pearsonr(main_merged_df['Index_Score'],main_merged_df['DV7-1']))\n",
    "print(\"Index_Score, DV3:\", pearsonr(main_merged_df['Index_Score'],main_merged_df['DV3']))\n",
    "print(\"Index_Score, DV3-1:\", pearsonr(main_merged_df['Index_Score'],main_merged_df['DV3-1']))"
   ]
  },
  {
   "cell_type": "code",
   "execution_count": null,
   "metadata": {
    "id": "fbfyBX9TDPd2"
   },
   "outputs": [],
   "source": [
    "print(\"Index_Pos, Price:\", pearsonr(main_merged_df2['Index_Pos'],main_merged_df2['Close']))\n",
    "print(\"Index_Pos, DR:\", pearsonr(main_merged_df2['Index_Pos'],main_merged_df2['DR']))\n",
    "print(\"Index_Pos, DV7:\", pearsonr(main_merged_df2['Index_Pos'],main_merged_df2['DV7']))\n",
    "print(\"Index_Pos, DV7-1:\", pearsonr(main_merged_df2['Index_Pos'],main_merged_df2['DV7-1']))\n",
    "print(\"Index_Pos, DV3:\", pearsonr(main_merged_df2['Index_Pos'],main_merged_df2['DV3']))\n",
    "print(\"Index_Pos, DV3-1:\", pearsonr(main_merged_df2['Index_Pos'],main_merged_df2['DV3-1']))"
   ]
  },
  {
   "cell_type": "code",
   "execution_count": null,
   "metadata": {
    "id": "srIACj6TDPd2"
   },
   "outputs": [],
   "source": [
    "print(\"Index_Neg, Price:\", pearsonr(main_merged_df3['Index_Neg'],main_merged_df3['Close']))\n",
    "print(\"Index_Neg, DR:\", pearsonr(main_merged_df3['Index_Neg'],main_merged_df3['DR']))\n",
    "print(\"Index_Neg, DV7:\", pearsonr(main_merged_df3['Index_Neg'],main_merged_df3['DV7']))\n",
    "print(\"Index_Neg, DV7-1:\", pearsonr(main_merged_df3['Index_Neg'],main_merged_df3['DV7-1']))\n",
    "print(\"Index_Neg, DV3:\", pearsonr(main_merged_df3['Index_Neg'],main_merged_df3['DV3']))\n",
    "print(\"Index_Neg, DV3-1:\", pearsonr(main_merged_df3['Index_Neg'],main_merged_df3['DV3-1']))"
   ]
  },
  {
   "cell_type": "code",
   "execution_count": null,
   "metadata": {
    "id": "s6WIcd47DPd3"
   },
   "outputs": [],
   "source": [
    "from statsmodels.tsa.stattools import adfuller\n",
    "\n",
    "print(\"ADF Close\", adfuller(main_merged_df['Close']))\n",
    "print(\"ADF DR\", adfuller(main_merged_df['DR']))\n",
    "print(\"ADF DV7\", adfuller(main_merged_df['DV7']))\n",
    "print(\"ADF DV7-1\", adfuller(main_merged_df['DV7-1']))\n",
    "print(\"ADF DV3\", adfuller(main_merged_df['DV3']))\n",
    "print(\"ADF DV3-1\", adfuller(main_merged_df['DV3-1']))\n",
    "print(\"ADF Index_Score\", adfuller(main_merged_df['Index_Score']))\n",
    "print(\"ADF Index_Pos\", adfuller(main_merged_df2['Index_Pos']))\n",
    "print(\"ADF Index_Neg\", adfuller(main_merged_df3['Index_Neg']))"
   ]
  },
  {
   "cell_type": "code",
   "execution_count": null,
   "metadata": {
    "id": "V86MLySuDPd3"
   },
   "outputs": [],
   "source": [
    "from statsmodels.tsa.stattools import grangercausalitytests\n",
    "\n",
    "print(\"IS - DV7\", grangercausalitytests(main_merged_df[['Index_Score', 'DV7']], maxlag=[1]))\n",
    "print()\n",
    "print(\"DV7 - IS\", grangercausalitytests(main_merged_df[['DV7','Index_Score']], maxlag=[1]))\n",
    "print()\n",
    "print(\"IS - DV7-1\", grangercausalitytests(main_merged_df[['Index_Score', 'DV7-1']], maxlag=[1]))\n",
    "print()\n",
    "print(\"DV7 - IS-1\", grangercausalitytests(main_merged_df[['DV7-1','Index_Score']], maxlag=[1]))\n",
    "print()\n",
    "print(\"IS - DV3\", grangercausalitytests(main_merged_df[['Index_Score', 'DV3']], maxlag=[1]))\n",
    "print()\n",
    "print(\"DV3 - IS\", grangercausalitytests(main_merged_df[['DV3','Index_Score']], maxlag=[1]))\n",
    "print()\n",
    "print(\"IS - DV3-1\", grangercausalitytests(main_merged_df[['Index_Score', 'DV3-1']], maxlag=[1]))\n",
    "print()\n",
    "print(\"DV3 - IS-1\", grangercausalitytests(main_merged_df[['DV3-1','Index_Score']], maxlag=[1]))\n",
    "print()"
   ]
  },
  {
   "cell_type": "code",
   "execution_count": null,
   "metadata": {
    "id": "ccQMaKRwDPd3"
   },
   "outputs": [],
   "source": [
    "print(\"IS - DV7\", grangercausalitytests(main_merged_df2[['Index_Pos', 'DV7']], maxlag=[1]))\n",
    "print()\n",
    "print(\"DV7 - IS\", grangercausalitytests(main_merged_df2[['DV7','Index_Pos']], maxlag=[1]))\n",
    "print()\n",
    "print(\"IS - DV7-1\", grangercausalitytests(main_merged_df2[['Index_Pos', 'DV7-1']], maxlag=[1]))\n",
    "print()\n",
    "print(\"DV7 - IS-1\", grangercausalitytests(main_merged_df2[['DV7-1','Index_Pos']], maxlag=[1]))\n",
    "print()\n",
    "print(\"IS - DV3\", grangercausalitytests(main_merged_df2[['Index_Pos', 'DV3']], maxlag=[1]))\n",
    "print()\n",
    "print(\"DV3 - IS\", grangercausalitytests(main_merged_df2[['DV3','Index_Pos']], maxlag=[1]))\n",
    "print()\n",
    "print(\"IS - DV3-1\", grangercausalitytests(main_merged_df2[['Index_Pos', 'DV3-1']], maxlag=[1]))\n",
    "print()\n",
    "print(\"DV3 - IS-1\", grangercausalitytests(main_merged_df2[['DV3-1','Index_Pos']], maxlag=[1]))\n",
    "print()"
   ]
  },
  {
   "cell_type": "code",
   "execution_count": null,
   "metadata": {
    "id": "re1rYxtiDPd3"
   },
   "outputs": [],
   "source": [
    "print(\"IS - DV7\", grangercausalitytests(main_merged_df3[['Index_Neg', 'DV7']], maxlag=[1]))\n",
    "print()\n",
    "print(\"DV7 - IS\", grangercausalitytests(main_merged_df3[['DV7','Index_Neg']], maxlag=[1]))\n",
    "print()\n",
    "print(\"IS - DV7-1\", grangercausalitytests(main_merged_df3[['Index_Neg', 'DV7-1']], maxlag=[1]))\n",
    "print()\n",
    "print(\"DV7 - IS-1\", grangercausalitytests(main_merged_df3[['DV7-1','Index_Neg']], maxlag=[1]))\n",
    "print()\n",
    "print(\"IS - DV3\", grangercausalitytests(main_merged_df3[['Index_Neg', 'DV3']], maxlag=[1]))\n",
    "print()\n",
    "print(\"DV3 - IS\", grangercausalitytests(main_merged_df3[['DV3','Index_Neg']], maxlag=[1]))\n",
    "print()\n",
    "print(\"IS - DV3-1\", grangercausalitytests(main_merged_df3[['Index_Neg', 'DV3-1']], maxlag=[1]))\n",
    "print()\n",
    "print(\"DV3 - IS-1\", grangercausalitytests(main_merged_df3[['DV3-1','Index_Neg']], maxlag=[1]))\n",
    "print()"
   ]
  },
  {
   "cell_type": "code",
   "execution_count": null,
   "metadata": {
    "id": "blhzBekiDPd4"
   },
   "outputs": [],
   "source": []
  },
  {
   "cell_type": "code",
   "execution_count": null,
   "metadata": {
    "id": "D5pVBbkNDPd4"
   },
   "outputs": [],
   "source": []
  }
 ],
 "metadata": {
  "colab": {
   "provenance": []
  },
  "kernelspec": {
   "display_name": "Python 3",
   "language": "python",
   "name": "python3"
  },
  "language_info": {
   "codemirror_mode": {
    "name": "ipython",
    "version": 3
   },
   "file_extension": ".py",
   "mimetype": "text/x-python",
   "name": "python",
   "nbconvert_exporter": "python",
   "pygments_lexer": "ipython3",
   "version": "3.8.5"
  }
 },
 "nbformat": 4,
 "nbformat_minor": 1
}
