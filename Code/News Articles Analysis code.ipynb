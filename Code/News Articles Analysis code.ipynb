{
 "cells": [
  {
   "cell_type": "code",
   "execution_count": null,
   "metadata": {
    "colab": {
     "base_uri": "https://localhost:8080/"
    },
    "id": "Mnymp2PSDPdo",
    "outputId": "290927a0-cc5e-4b26-de8f-43c6c10563b0"
   },
   "outputs": [],
   "source": [
    "!pip install bs4\n",
    "!pip install pygooglenews\n",
    "!pip install requests\n",
    "!pip install datetime\n",
    "!pip install pandas\n",
    "!pip install numpy\n",
    "!pip install urllib3\n",
    "!pip install vaderSentiment\n",
    "!pip install scipy\n",
    "!pip install vaderSentiment\n",
    "!pip install statsmodels\n",
    "!pip install regex==2022.3.2"
   ]
  },
  {
   "cell_type": "code",
   "execution_count": null,
   "metadata": {
    "id": "Gj2Y9Nb9DPdq"
   },
   "outputs": [],
   "source": [
    "import pandas as pd\n",
    "import numpy as np\n",
    "from urllib.request import urlretrieve\n",
    "import datetime\n",
    "import requests\n",
    "from pygooglenews import GoogleNews\n",
    "from urllib.request import Request, urlopen\n",
    "from bs4 import BeautifulSoup\n",
    "from vaderSentiment.vaderSentiment import SentimentIntensityAnalyzer\n",
    "import io"
   ]
  },
  {
   "cell_type": "code",
   "execution_count": null,
   "metadata": {
    "colab": {
     "base_uri": "https://localhost:8080/",
     "height": 107
    },
    "id": "S6bOn8DOErS6",
    "outputId": "7d255a1c-506b-41fb-f823-b4bd412504ab"
   },
   "outputs": [],
   "source": [
    "from google.colab import files\n",
    "uploaded = files.upload()"
   ]
  },
  {
   "cell_type": "code",
   "execution_count": null,
   "metadata": {
    "colab": {
     "base_uri": "https://localhost:8080/"
    },
    "id": "jlE0xjZVDPdr",
    "outputId": "9d04b746-2819-4c6e-97dd-ed80ddb92dc7"
   },
   "outputs": [],
   "source": [
    "from urllib.request import Request, urlopen\n",
    "from bs4 import BeautifulSoup\n",
    "from google.colab import  drive\n",
    "drive.mount('/drive')"
   ]
  },
  {
   "cell_type": "code",
   "execution_count": null,
   "metadata": {
    "colab": {
     "base_uri": "https://localhost:8080/"
    },
    "id": "nTDbNP0YDPdr",
    "outputId": "aaee178e-9279-4378-f652-fb7b3782daad"
   },
   "outputs": [],
   "source": [
    "from pygooglenews import GoogleNews\n",
    "gn = GoogleNews()\n",
    " \n",
    "ticker_df = pd.read_csv(io.BytesIO(uploaded['index1.csv']))\n",
    "ticker_df['Name'] = ticker_df['Name'].astype(str)\n",
    "BSE_SENSEX_tickers = list(ticker_df['Name'])\n",
    "BSE_SENSEX_weights = list(ticker_df['Weight'])\n",
    "\n",
    "print(BSE_SENSEX_tickers)\n",
    "\n",
    "NSE_NIFTY_tickers = [] #"
   ]
  },
  {
   "cell_type": "code",
   "execution_count": null,
   "metadata": {
    "colab": {
     "base_uri": "https://localhost:8080/"
    },
    "id": "ZWOrEZ8_DPds",
    "outputId": "2741f486-9c12-42e9-eaf4-ddc729ef4152"
   },
   "outputs": [],
   "source": [
    "search = gn.search('COVID')\n",
    "newsitem = search['entries']\n",
    "newsitem[0]"
   ]
  },
  {
   "cell_type": "code",
   "execution_count": null,
   "metadata": {
    "id": "m8x74qLIDPdt"
   },
   "outputs": [],
   "source": [
    "def webpage_text_fetch(url):\n",
    "\n",
    "    headers = {\n",
    "    \"User-Agent\": \"Mozilla/5.0 (Windows NT 10.0; Win64; x64) AppleWebKit/537.36 (KHTML, like Gecko) Chrome/108.0.0.0 Safari/537.36\",\n",
    "    \"Accept-Encoding\": \"*\",\n",
    "    \"Connection\": \"keep-alive\"\n",
    "    }\n",
    "    \n",
    "    try:\n",
    "        html = requests.get(url, headers=headers, timeout=10).text\n",
    "        print('request successful')\n",
    "    except Exception:\n",
    "        text = \"no text\"\n",
    "        return text\n",
    "    except requests.exceptions.ConnectionError:\n",
    "        text = \"no text\"\n",
    "        return text\n",
    "    except TypeError:\n",
    "        text = \"no text\"\n",
    "        return text\n",
    "    except requests.exceptions.HTTPError:\n",
    "        text = \"no text\"\n",
    "        return text\n",
    "    except requests.exceptions.Timeout:\n",
    "        text = \"no text\"\n",
    "        return text\n",
    "    except requests.exceptions.SSLError:\n",
    "        text = \"no text\"\n",
    "        return text\n",
    "    except requests.exceptions.TooManyRedirects:\n",
    "        text = \"no text\"\n",
    "        return text\n",
    "        \n",
    "    \n",
    "    soup = BeautifulSoup(html, features=\"html.parser\")\n",
    "    print('bs4 successful')\n",
    "    for script in soup([\"script\", \"style\"]):\n",
    "        script.extract()    \n",
    "    \n",
    "    text = soup.get_text()\n",
    "    lines = (line.strip() for line in text.splitlines())\n",
    "    chunks = (phrase.strip() for line in lines for phrase in line.split(\"  \"))\n",
    "    text = '\\n'.join(chunk for chunk in chunks if chunk)\n",
    "    \n",
    "    return text"
   ]
  },
  {
   "cell_type": "code",
   "execution_count": null,
   "metadata": {
    "id": "xwCbB9h4DPdu"
   },
   "outputs": [],
   "source": [
    "def story_gen(ticker):\n",
    "    stories = []\n",
    "    start_date = datetime.datetime(2020, 12, 30)\n",
    "    date_format = '%a, %d %b %Y %H:%M:%S %Z'\n",
    "    while(start_date <= datetime.datetime(2021, 6, 30)):\n",
    "        end_date = start_date + datetime.timedelta(days=15)\n",
    "        search = gn.search(ticker, from_ = start_date.strftime('%Y-%m-%d'), to_ = end_date.strftime('%Y-%m-%d'))\n",
    "        newsitem = search['entries']\n",
    "        for item in newsitem:\n",
    "            story = {\n",
    "                'title':item.title,\n",
    "                'date':datetime.datetime.strptime(item.published, date_format),\n",
    "                'link':item.link,\n",
    "            }\n",
    "            stories.append(story)\n",
    "        start_date += datetime.timedelta(days=15)\n",
    "    \n",
    "    return stories"
   ]
  },
  {
   "cell_type": "code",
   "execution_count": null,
   "metadata": {
    "colab": {
     "base_uri": "https://localhost:8080/"
    },
    "id": "vM3uBxZ6DPdv",
    "outputId": "af61b395-fc0a-4885-a883-5ba27745514e"
   },
   "outputs": [],
   "source": [
    "news_story_df_list = []\n",
    "story_list_list = []\n",
    "news_story_df_out_test = []\n",
    "story_title_df_out_list = []\n",
    "story_date_df_out_list = []\n",
    "story_link_df_out_list = []\n",
    "\n",
    "check = 0\n",
    "\n",
    "for ticker in BSE_SENSEX_tickers:\n",
    "    \n",
    "    print(ticker)\n",
    "    stories = story_gen(ticker)\n",
    "        \n",
    "    story_list_list.append(stories)\n",
    "    text_list = []\n",
    "    news_story_df_test = []\n",
    "    story_title_df_list = []\n",
    "    story_date_df_list = []\n",
    "    story_link_df_list = []\n",
    "    \n",
    "    for i in range(len(stories)):\n",
    "      story_title_df_list.append(stories[i]['title'])\n",
    "      story_date_df_list.append(stories[i]['date'])\n",
    "      story_link_df_list.append(stories[i]['link'])\n",
    "      print('Fetch Attempt')\n",
    "      text = webpage_text_fetch(stories[i]['link'])\n",
    "      \n",
    "      print('Fetch Successfull: ', check)\n",
    "      check += 1\n",
    "      text_list.append(text)\n",
    "      news_story_df_test.append(text)\n",
    "      print('Append Successful')\n",
    "\n",
    "    \n",
    "    print(\"No. of Stories assessed: \", len(stories))\n",
    "    temp1_df = pd.DataFrame(text_list, columns =[ticker])\n",
    "    temp2_df = pd.DataFrame(story_title_df_list, columns =[ticker])\n",
    "    temp3_df = pd.DataFrame(story_date_df_list, columns =[ticker])\n",
    "    temp4_df = pd.DataFrame(story_link_df_list, columns =[ticker])\n",
    "    temp5_df = pd.DataFrame(news_story_df_test, columns =[ticker])\n",
    "\n",
    "    news_story_df_list.append(temp1_df)\n",
    "    story_title_df_out_list.append(temp2_df)\n",
    "    story_date_df_out_list.append(temp3_df)\n",
    "    story_link_df_out_list.append(temp4_df)\n",
    "    news_story_df_out_test.append(temp5_df)\n",
    "\n",
    "    \n",
    "    news_story_test_df = pd.concat(news_story_df_out_test, axis=1)\n",
    "    story_title_df = pd.concat(story_title_df_out_list, axis=1)\n",
    "    story_date_df = pd.concat(story_date_df_out_list, axis=1)\n",
    "    story_link_df = pd.concat(story_link_df_out_list, axis=1)\n",
    "    news_story_test_df = pd.concat(news_story_df_out_test, axis=1)\n",
    "\n",
    "    #news_story_test_df.to_csv('/drive/My Drive/SOP/news_df.csv',mode='w+')\n",
    "    story_title_df.to_csv('/drive/My Drive/SOP/title_df.csv',mode='w+')\n",
    "    story_date_df.to_csv('/drive/My Drive/SOP/date_df.csv',mode='w+')\n",
    "    story_link_df.to_csv('/drive/My Drive/SOP/link_df.csv',mode='w+')\n",
    "    "
   ]
  },
  {
   "cell_type": "code",
   "execution_count": null,
   "metadata": {
    "colab": {
     "base_uri": "https://localhost:8080/"
    },
    "id": "is0ZHAwAwSzj",
    "outputId": "a057507d-1c11-4a7a-9b78-a8d454ef8f48"
   },
   "outputs": [],
   "source": [
    "print('News text data fetch Complete')"
   ]
  },
  {
   "cell_type": "code",
   "execution_count": null,
   "metadata": {
    "id": "jCZ_cdOxDPdv"
   },
   "outputs": [],
   "source": [
    "news_story_df = pd.concat(news_story_df_list, axis=1).copy()\n",
    "from google.colab import files\n",
    "type(news_story_df['RELIANCE'][0])\n",
    "for tickers in BSE_SENSEX_tickers:\n",
    "  news_story_df[ticker] = news_story_df[ticker].astype(str)\n",
    "  for i in range(len(news_story_df[ticker])):\n",
    "    news_story_df[ticker][i] = news_story_df[ticker][i].encode('utf-8','ignore').decode(\"utf-8\")\n",
    "  \n",
    "#news_story_df.to_csv('news_df.csv') \n",
    "#files.download('news_df.csv')"
   ]
  },
  {
   "cell_type": "code",
   "execution_count": null,
   "metadata": {
    "colab": {
     "base_uri": "https://localhost:8080/"
    },
    "id": "eJnGfwbtDPdw",
    "outputId": "5b0d04bd-ffaa-4ced-fe2e-10bc2265febf"
   },
   "outputs": [],
   "source": [
    "analyzer = SentimentIntensityAnalyzer()\n",
    "total_story_sum = 0\n",
    "index = 0\n",
    "list_df = []\n",
    "list_df2 = []\n",
    "list_df3 = []\n",
    "\n",
    "for ticker in BSE_SENSEX_tickers:\n",
    "    \n",
    "    print(ticker)\n",
    "    stories = story_list_list[index]\n",
    "    index += 1\n",
    "    total_story_sum += len(stories)\n",
    "    \n",
    "    ticker_story_list = []\n",
    "    ticker_pos_list = []\n",
    "    ticker_neg_list = []\n",
    "    \n",
    "    ticker_score = ticker + '_score' \n",
    "    ticker_pos = ticker + '_pos'\n",
    "    ticker_neg = ticker + '_neg'\n",
    "    \n",
    "    check = 0\n",
    "    for i in range(len(stories)):\n",
    "        check = 1\n",
    "                \n",
    "        text = news_story_df[ticker].iloc[i]        \n",
    "        title_analyzed = analyzer.polarity_scores((stories[i])['title'])\n",
    "        text_analyzed = analyzer.polarity_scores(text)\n",
    "        \n",
    "        score = ((title_analyzed['compound']) + (text_analyzed['compound']))/2\n",
    "        pos = ((title_analyzed['pos']) + (text_analyzed['pos']))/2\n",
    "        neg = ((title_analyzed['neg']) + (text_analyzed['neg']))/2\n",
    "        \n",
    "        ticker_story_dict = {\n",
    "            'date': (stories[i])['date'],\n",
    "            ticker_score : score\n",
    "        }\n",
    "        ticker_story_list.append(ticker_story_dict)\n",
    "        \n",
    "        ticker_pos_dict = {\n",
    "            'date': (stories[i])['date'],\n",
    "            ticker_pos : pos\n",
    "        }\n",
    "        ticker_pos_list.append(ticker_pos_dict)\n",
    "        \n",
    "        ticker_neg_dict = {\n",
    "            'date': (stories[i])['date'],\n",
    "            ticker_neg : neg\n",
    "        }\n",
    "        ticker_neg_list.append(ticker_neg_dict)\n",
    "        \n",
    "    if(check==0):\n",
    "        ticker_story = {\n",
    "            'date': datetime.datetime(2021, 1, 1),\n",
    "            ticker_score : 0\n",
    "        }\n",
    "        ticker_story_list.append(ticker_story)\n",
    "        \n",
    "        ticker_pos = {\n",
    "            'date': datetime.datetime(2021, 1, 1),\n",
    "            ticker_pos : 0\n",
    "        }\n",
    "        ticker_pos_list.append(ticker_pos)\n",
    "        \n",
    "        ticker_neg = {\n",
    "            'date': datetime.datetime(2021, 1, 1),\n",
    "            ticker_neg : 0\n",
    "        }\n",
    "        ticker_neg_list.append(ticker_neg)\n",
    "        \n",
    "        \n",
    "    df = pd.DataFrame(ticker_story_list)\n",
    "    df = df.groupby(['date']).mean()\n",
    "    list_df.append(df)\n",
    "    \n",
    "    df2 = pd.DataFrame(ticker_pos_list)\n",
    "    df2 = df2.groupby(['date']).mean()\n",
    "    list_df2.append(df2)\n",
    "    \n",
    "    df3 = pd.DataFrame(ticker_neg_list)\n",
    "    df3 = df3.groupby(['date']).mean()\n",
    "    list_df3.append(df3)\n"
   ]
  },
  {
   "cell_type": "code",
   "execution_count": null,
   "metadata": {
    "id": "j67QsqKMDPdx"
   },
   "outputs": [],
   "source": [
    "date_col = []\n",
    "date_var = datetime.datetime(2020, 12, 30)\n",
    "while(date_var != datetime.datetime(2021, 6, 30)):\n",
    "    date_col.append(date_var)\n",
    "    date_var += datetime.timedelta(days=1)\n",
    "    \n",
    "date_column_df = pd.DataFrame(date_col)\n",
    "date_column_df.columns = ['date'] \n",
    "date_column_df['date'] = pd.to_datetime(date_column_df['date']).dt.date"
   ]
  },
  {
   "cell_type": "code",
   "execution_count": null,
   "metadata": {
    "colab": {
     "base_uri": "https://localhost:8080/",
     "height": 679
    },
    "id": "MobzgpdcDPdy",
    "outputId": "5b968383-a106-4eeb-b0b1-269dd89fe545"
   },
   "outputs": [],
   "source": [
    "list_df_copy = list_df.copy()\n",
    "merged_df = pd.concat(list_df_copy, axis=1)\n",
    "merged_df = merged_df.reset_index()\n",
    "merged_df['date'] = pd.to_datetime(merged_df['date']).dt.date\n",
    "final_merged_df = pd.merge(date_column_df, merged_df, on='date',how='left')\n",
    "BSE_SENSEX_weights = list(ticker_df['Weight'])\n",
    "cols = list(final_merged_df.columns[1:])\n",
    "final_merged_df = final_merged_df.fillna(0)\n",
    "final_merged_df['Index_Score'] = np.average(final_merged_df[cols], weights=BSE_SENSEX_weights , axis=1)\n",
    "final_merged_df_score = final_merged_df\n",
    "final_merged_df"
   ]
  },
  {
   "cell_type": "code",
   "execution_count": null,
   "metadata": {
    "colab": {
     "base_uri": "https://localhost:8080/",
     "height": 659
    },
    "id": "xOPaTqiZDPdy",
    "outputId": "4a01324b-9d83-4a4f-9750-d3a848709183"
   },
   "outputs": [],
   "source": [
    "list_df_copy = list_df2.copy()\n",
    "merged_df = pd.concat(list_df_copy, axis=1)\n",
    "merged_df = merged_df.reset_index()\n",
    "merged_df['date'] = pd.to_datetime(merged_df['date']).dt.date\n",
    "final_merged_df = pd.merge(date_column_df, merged_df, on='date',how='left')\n",
    "BSE_SENSEX_weights = list(ticker_df['Weight'])\n",
    "cols = list(final_merged_df.columns[1:])\n",
    "final_merged_df = final_merged_df.fillna(0)\n",
    "final_merged_df['Index_Pos'] = np.average(final_merged_df[cols], weights=BSE_SENSEX_weights , axis=1)\n",
    "final_merged_df_pos = final_merged_df\n",
    "final_merged_df_pos"
   ]
  },
  {
   "cell_type": "code",
   "execution_count": null,
   "metadata": {
    "colab": {
     "base_uri": "https://localhost:8080/",
     "height": 659
    },
    "id": "f_7VT_7bDPdz",
    "outputId": "8a969fe7-8045-4444-f717-fe61753d85e6"
   },
   "outputs": [],
   "source": [
    "list_df_copy = list_df3.copy()\n",
    "merged_df = pd.concat(list_df_copy, axis=1)\n",
    "merged_df = merged_df.reset_index()\n",
    "merged_df['date'] = pd.to_datetime(merged_df['date']).dt.date\n",
    "final_merged_df = pd.merge(date_column_df, merged_df, on='date',how='left')\n",
    "BSE_SENSEX_weights = list(ticker_df['Weight'])\n",
    "cols = list(final_merged_df.columns[1:])\n",
    "final_merged_df = final_merged_df.fillna(0)\n",
    "final_merged_df['Index_Neg'] = np.average(final_merged_df[cols], weights=BSE_SENSEX_weights , axis=1)\n",
    "final_merged_df_neg = final_merged_df\n",
    "final_merged_df_neg"
   ]
  },
  {
   "cell_type": "code",
   "execution_count": null,
   "metadata": {
    "colab": {
     "base_uri": "https://localhost:8080/",
     "height": 424
    },
    "id": "DiXPwFHADPdz",
    "outputId": "cd55cad7-4700-4d71-c5fe-0cafac2dce5a"
   },
   "outputs": [],
   "source": [
    "main_df = final_merged_df_score[['date','Index_Score']]\n",
    "main_df2 = final_merged_df_pos[['date','Index_Pos']]\n",
    "main_df3 = final_merged_df_neg[['date','Index_Neg']]\n",
    "main_df"
   ]
  },
  {
   "cell_type": "code",
   "execution_count": null,
   "metadata": {
    "colab": {
     "base_uri": "https://localhost:8080/",
     "height": 424
    },
    "id": "kOE5hOHADPd0",
    "outputId": "ec40a376-27a7-4261-8f41-12b1ba076f79"
   },
   "outputs": [],
   "source": [
    "stock_df = pd.read_csv(io.BytesIO(uploaded['index1data.csv']))\n",
    "stock_df"
   ]
  },
  {
   "cell_type": "code",
   "execution_count": null,
   "metadata": {
    "id": "rno_HvtwDPd0"
   },
   "outputs": [],
   "source": [
    "stock_df['date'] = pd.to_datetime(stock_df['Date']).dt.date"
   ]
  },
  {
   "cell_type": "code",
   "execution_count": null,
   "metadata": {
    "colab": {
     "base_uri": "https://localhost:8080/",
     "height": 424
    },
    "id": "BAhOlsN6DPd0",
    "outputId": "23e7305d-1d6a-474b-d624-e1bbaea34ea3"
   },
   "outputs": [],
   "source": [
    "stock_df = stock_df.drop(['Date'], axis=1)\n",
    "stock_df "
   ]
  },
  {
   "cell_type": "code",
   "execution_count": null,
   "metadata": {
    "id": "GF2OEZE2DPd0"
   },
   "outputs": [],
   "source": [
    "stock_df['DR'] = np.log((stock_df['Close']/ stock_df['Close'].shift(1)))\n",
    "stock_df['DV7'] = ''\n",
    "stock_df['DV3'] = ''\n",
    "\n",
    "for i in range(7):\n",
    "    col_name = 'shift'+str(i)\n",
    "    stock_df[col_name] = stock_df['Close'].shift(i)\n"
   ]
  },
  {
   "cell_type": "code",
   "execution_count": null,
   "metadata": {
    "colab": {
     "base_uri": "https://localhost:8080/"
    },
    "id": "giE3RkHaDPd1",
    "outputId": "8fa80881-7c2e-4122-f564-1907777f052b"
   },
   "outputs": [],
   "source": [
    "for i in range(stock_df.shape[0]):\n",
    "    stock_df['DV7'][i] = np.sqrt(np.var([stock_df[('shift'+str(j))][i] for j in range(7)]))\n",
    "    stock_df['DV3'][i] = np.sqrt(np.var([stock_df[('shift'+str(j))][i] for j in range(3)]))\n",
    "    \n",
    "stock_df['DV7-1'] = stock_df['DV7'].shift(-1)\n",
    "stock_df['DV3-1'] = stock_df['DV3'].shift(-1)"
   ]
  },
  {
   "cell_type": "code",
   "execution_count": null,
   "metadata": {
    "colab": {
     "base_uri": "https://localhost:8080/",
     "height": 424
    },
    "id": "qRf4SMs5DPd1",
    "outputId": "9abb6026-215b-4501-d498-613e617f7a4f"
   },
   "outputs": [],
   "source": [
    "stock_df"
   ]
  },
  {
   "cell_type": "code",
   "execution_count": null,
   "metadata": {
    "id": "5MSlVbKbDPd1"
   },
   "outputs": [],
   "source": [
    "main_merged_df = pd.merge(stock_df, main_df, on='date',how='inner')\n",
    "main_merged_df = main_merged_df[['Close','DR','DV3','DV7','DV3-1','DV7-1','Index_Score']]\n",
    "main_merged_df['DV7'] = pd.to_numeric(main_merged_df['DV7'])\n",
    "main_merged_df['DV7-1'] = pd.to_numeric(main_merged_df['DV7-1'])\n",
    "main_merged_df['DV3'] = pd.to_numeric(main_merged_df['DV3'])\n",
    "main_merged_df['DV3-1'] = pd.to_numeric(main_merged_df['DV3-1'])\n",
    "\n",
    "main_merged_df2 = pd.merge(stock_df, main_df2, on='date',how='inner')\n",
    "main_merged_df2 = main_merged_df2[['Close','DR','DV3','DV7','DV3-1','DV7-1','Index_Pos']]\n",
    "main_merged_df2['DV7'] = pd.to_numeric(main_merged_df2['DV7'])\n",
    "main_merged_df2['DV7-1'] = pd.to_numeric(main_merged_df2['DV7-1'])\n",
    "main_merged_df2['DV3'] = pd.to_numeric(main_merged_df2['DV3'])\n",
    "main_merged_df2['DV3-1'] = pd.to_numeric(main_merged_df2['DV3-1'])\n",
    "\n",
    "main_merged_df3 = pd.merge(stock_df, main_df3, on='date',how='inner')\n",
    "main_merged_df3 = main_merged_df3[['Close','DR','DV3','DV7','DV3-1','DV7-1','Index_Neg']]\n",
    "main_merged_df3['DV7'] = pd.to_numeric(main_merged_df3['DV7'])\n",
    "main_merged_df3['DV7-1'] = pd.to_numeric(main_merged_df3['DV7-1'])\n",
    "main_merged_df3['DV3'] = pd.to_numeric(main_merged_df3['DV3'])\n",
    "main_merged_df3['DV3-1'] = pd.to_numeric(main_merged_df3['DV3-1'])"
   ]
  },
  {
   "cell_type": "code",
   "execution_count": null,
   "metadata": {
    "colab": {
     "base_uri": "https://localhost:8080/",
     "height": 424
    },
    "id": "6c-HAdT0DPd2",
    "outputId": "27cb7266-a886-4712-81a5-4801f8adb69a"
   },
   "outputs": [],
   "source": [
    "main_df"
   ]
  },
  {
   "cell_type": "code",
   "execution_count": null,
   "metadata": {
    "colab": {
     "base_uri": "https://localhost:8080/"
    },
    "id": "5dltr7P6DPd2",
    "outputId": "e8714ff4-4e66-437e-cd3e-9ed4d6abdf6e"
   },
   "outputs": [],
   "source": [
    "import numpy as np\n",
    "from scipy.stats import pearsonr\n",
    "\n",
    "print(\"Index_Score, Price:\", pearsonr(main_merged_df['Index_Score'],main_merged_df['Close']))\n",
    "print(\"Index_Score, DR:\", pearsonr(main_merged_df['Index_Score'],main_merged_df['DR']))\n",
    "print(\"Index_Score, DV7:\", pearsonr(main_merged_df['Index_Score'],main_merged_df['DV7']))\n",
    "print(\"Index_Score, DV7-1:\", pearsonr(main_merged_df['Index_Score'],main_merged_df['DV7-1']))\n",
    "print(\"Index_Score, DV3:\", pearsonr(main_merged_df['Index_Score'],main_merged_df['DV3']))\n",
    "print(\"Index_Score, DV3-1:\", pearsonr(main_merged_df['Index_Score'],main_merged_df['DV3-1']))"
   ]
  },
  {
   "cell_type": "code",
   "execution_count": null,
   "metadata": {
    "colab": {
     "base_uri": "https://localhost:8080/"
    },
    "id": "fbfyBX9TDPd2",
    "outputId": "1648b647-36d5-49b5-8dbe-a78ae071c7c7"
   },
   "outputs": [],
   "source": [
    "print(\"Index_Pos, Price:\", pearsonr(main_merged_df2['Index_Pos'],main_merged_df2['Close']))\n",
    "print(\"Index_Pos, DR:\", pearsonr(main_merged_df2['Index_Pos'],main_merged_df2['DR']))\n",
    "print(\"Index_Pos, DV7:\", pearsonr(main_merged_df2['Index_Pos'],main_merged_df2['DV7']))\n",
    "print(\"Index_Pos, DV7-1:\", pearsonr(main_merged_df2['Index_Pos'],main_merged_df2['DV7-1']))\n",
    "print(\"Index_Pos, DV3:\", pearsonr(main_merged_df2['Index_Pos'],main_merged_df2['DV3']))\n",
    "print(\"Index_Pos, DV3-1:\", pearsonr(main_merged_df2['Index_Pos'],main_merged_df2['DV3-1']))"
   ]
  },
  {
   "cell_type": "code",
   "execution_count": null,
   "metadata": {
    "colab": {
     "base_uri": "https://localhost:8080/"
    },
    "id": "srIACj6TDPd2",
    "outputId": "a460b73f-8a73-4692-800d-bd34b41036ff"
   },
   "outputs": [],
   "source": [
    "print(\"Index_Neg, Price:\", pearsonr(main_merged_df3['Index_Neg'],main_merged_df3['Close']))\n",
    "print(\"Index_Neg, DR:\", pearsonr(main_merged_df3['Index_Neg'],main_merged_df3['DR']))\n",
    "print(\"Index_Neg, DV7:\", pearsonr(main_merged_df3['Index_Neg'],main_merged_df3['DV7']))\n",
    "print(\"Index_Neg, DV7-1:\", pearsonr(main_merged_df3['Index_Neg'],main_merged_df3['DV7-1']))\n",
    "print(\"Index_Neg, DV3:\", pearsonr(main_merged_df3['Index_Neg'],main_merged_df3['DV3']))\n",
    "print(\"Index_Neg, DV3-1:\", pearsonr(main_merged_df3['Index_Neg'],main_merged_df3['DV3-1']))"
   ]
  },
  {
   "cell_type": "code",
   "execution_count": null,
   "metadata": {
    "colab": {
     "base_uri": "https://localhost:8080/"
    },
    "id": "s6WIcd47DPd3",
    "outputId": "3c3ff7a2-5fa8-4c0f-f8de-202aba4df74b"
   },
   "outputs": [],
   "source": [
    "from statsmodels.tsa.stattools import adfuller\n",
    "\n",
    "print(\"ADF Close\", adfuller(main_merged_df['Close']))\n",
    "print(\"ADF DR\", adfuller(main_merged_df['DR']))\n",
    "print(\"ADF DV7\", adfuller(main_merged_df['DV7']))\n",
    "print(\"ADF DV7-1\", adfuller(main_merged_df['DV7-1']))\n",
    "print(\"ADF DV3\", adfuller(main_merged_df['DV3']))\n",
    "print(\"ADF DV3-1\", adfuller(main_merged_df['DV3-1']))\n",
    "print(\"ADF Index_Score\", adfuller(main_merged_df['Index_Score']))\n",
    "print(\"ADF Index_Pos\", adfuller(main_merged_df2['Index_Pos']))\n",
    "print(\"ADF Index_Neg\", adfuller(main_merged_df3['Index_Neg']))"
   ]
  },
  {
   "cell_type": "code",
   "execution_count": null,
   "metadata": {
    "colab": {
     "base_uri": "https://localhost:8080/"
    },
    "id": "V86MLySuDPd3",
    "outputId": "3d1acbb7-f627-4c96-b238-5578de6efcde"
   },
   "outputs": [],
   "source": [
    "from statsmodels.tsa.stattools import grangercausalitytests\n",
    "\n",
    "print(\"IS - DV7\", grangercausalitytests(main_merged_df[['Index_Score', 'DV7']], maxlag=[1]))\n",
    "print()\n",
    "print(\"DV7 - IS\", grangercausalitytests(main_merged_df[['DV7','Index_Score']], maxlag=[1]))\n",
    "print()\n",
    "print(\"IS - DV7-1\", grangercausalitytests(main_merged_df[['Index_Score', 'DV7-1']], maxlag=[1]))\n",
    "print()\n",
    "print(\"DV7 - IS-1\", grangercausalitytests(main_merged_df[['DV7-1','Index_Score']], maxlag=[1]))\n",
    "print()\n",
    "print(\"IS - DV3\", grangercausalitytests(main_merged_df[['Index_Score', 'DV3']], maxlag=[1]))\n",
    "print()\n",
    "print(\"DV3 - IS\", grangercausalitytests(main_merged_df[['DV3','Index_Score']], maxlag=[1]))\n",
    "print()\n",
    "print(\"IS - DV3-1\", grangercausalitytests(main_merged_df[['Index_Score', 'DV3-1']], maxlag=[1]))\n",
    "print()\n",
    "print(\"DV3 - IS-1\", grangercausalitytests(main_merged_df[['DV3-1','Index_Score']], maxlag=[1]))\n",
    "print()"
   ]
  },
  {
   "cell_type": "code",
   "execution_count": null,
   "metadata": {
    "colab": {
     "base_uri": "https://localhost:8080/"
    },
    "id": "ccQMaKRwDPd3",
    "outputId": "192a8898-875b-4892-8129-8f62577bfac3"
   },
   "outputs": [],
   "source": [
    "print(\"IS - DV7\", grangercausalitytests(main_merged_df2[['Index_Pos', 'DV7']], maxlag=[1]))\n",
    "print()\n",
    "print(\"DV7 - IS\", grangercausalitytests(main_merged_df2[['DV7','Index_Pos']], maxlag=[1]))\n",
    "print()\n",
    "print(\"IS - DV7-1\", grangercausalitytests(main_merged_df2[['Index_Pos', 'DV7-1']], maxlag=[1]))\n",
    "print()\n",
    "print(\"DV7 - IS-1\", grangercausalitytests(main_merged_df2[['DV7-1','Index_Pos']], maxlag=[1]))\n",
    "print()\n",
    "print(\"IS - DV3\", grangercausalitytests(main_merged_df2[['Index_Pos', 'DV3']], maxlag=[1]))\n",
    "print()\n",
    "print(\"DV3 - IS\", grangercausalitytests(main_merged_df2[['DV3','Index_Pos']], maxlag=[1]))\n",
    "print()\n",
    "print(\"IS - DV3-1\", grangercausalitytests(main_merged_df2[['Index_Pos', 'DV3-1']], maxlag=[1]))\n",
    "print()\n",
    "print(\"DV3 - IS-1\", grangercausalitytests(main_merged_df2[['DV3-1','Index_Pos']], maxlag=[1]))\n",
    "print()"
   ]
  },
  {
   "cell_type": "code",
   "execution_count": null,
   "metadata": {
    "colab": {
     "base_uri": "https://localhost:8080/"
    },
    "id": "re1rYxtiDPd3",
    "outputId": "09f3556b-4001-4b1c-e2c5-19656569feed"
   },
   "outputs": [],
   "source": [
    "print(\"IS - DV7\", grangercausalitytests(main_merged_df3[['Index_Neg', 'DV7']], maxlag=[1]))\n",
    "print()\n",
    "print(\"DV7 - IS\", grangercausalitytests(main_merged_df3[['DV7','Index_Neg']], maxlag=[1]))\n",
    "print()\n",
    "print(\"IS - DV7-1\", grangercausalitytests(main_merged_df3[['Index_Neg', 'DV7-1']], maxlag=[1]))\n",
    "print()\n",
    "print(\"DV7 - IS-1\", grangercausalitytests(main_merged_df3[['DV7-1','Index_Neg']], maxlag=[1]))\n",
    "print()\n",
    "print(\"IS - DV3\", grangercausalitytests(main_merged_df3[['Index_Neg', 'DV3']], maxlag=[1]))\n",
    "print()\n",
    "print(\"DV3 - IS\", grangercausalitytests(main_merged_df3[['DV3','Index_Neg']], maxlag=[1]))\n",
    "print()\n",
    "print(\"IS - DV3-1\", grangercausalitytests(main_merged_df3[['Index_Neg', 'DV3-1']], maxlag=[1]))\n",
    "print()\n",
    "print(\"DV3 - IS-1\", grangercausalitytests(main_merged_df3[['DV3-1','Index_Neg']], maxlag=[1]))\n",
    "print()"
   ]
  },
  {
   "cell_type": "code",
   "execution_count": null,
   "metadata": {
    "id": "blhzBekiDPd4"
   },
   "outputs": [],
   "source": []
  },
  {
   "cell_type": "code",
   "execution_count": null,
   "metadata": {
    "id": "D5pVBbkNDPd4"
   },
   "outputs": [],
   "source": []
  }
 ],
 "metadata": {
  "colab": {
   "provenance": []
  },
  "kernelspec": {
   "display_name": "Python 3",
   "language": "python",
   "name": "python3"
  },
  "language_info": {
   "codemirror_mode": {
    "name": "ipython",
    "version": 3
   },
   "file_extension": ".py",
   "mimetype": "text/x-python",
   "name": "python",
   "nbconvert_exporter": "python",
   "pygments_lexer": "ipython3",
   "version": "3.8.5"
  }
 },
 "nbformat": 4,
 "nbformat_minor": 1
}
